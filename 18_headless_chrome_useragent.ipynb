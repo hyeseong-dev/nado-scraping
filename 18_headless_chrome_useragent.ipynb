{
 "metadata": {
  "language_info": {
   "codemirror_mode": {
    "name": "ipython",
    "version": 3
   },
   "file_extension": ".py",
   "mimetype": "text/x-python",
   "name": "python",
   "nbconvert_exporter": "python",
   "pygments_lexer": "ipython3",
   "version": "3.8.2-final"
  },
  "orig_nbformat": 2,
  "kernelspec": {
   "name": "python3",
   "display_name": "Python 3"
  }
 },
 "nbformat": 4,
 "nbformat_minor": 2,
 "cells": [
  {
   "cell_type": "code",
   "execution_count": 5,
   "metadata": {},
   "outputs": [
    {
     "output_type": "stream",
     "name": "stdout",
     "text": [
      "<selenium.webdriver.remote.webelement.WebElement (session=\"222b9c977bfa516e57e0add20f0a3170\", element=\"ab7fa20c-70a8-44f6-8119-be1e8e9f79c6\")>\nMozilla/5.0 (Windows NT 10.0; Win64; x64) AppleWebKit/537.36 (KHTML, like Gecko) HeadlessChrome/86.0.4240.111 Safari/537.36\n"
     ]
    }
   ],
   "source": [
    "from selenium import webdriver\n",
    "\n",
    "options = webdriver.ChromeOptions()\n",
    "options.headless = True\n",
    "options.add_argument('window-size=1920x1080' )\n",
    "\n",
    "\n",
    "browser = webdriver.Chrome(options=options)\n",
    "browser.maximize_window()\n",
    "\n",
    "url = 'https://www.whatismybrowser.com/detect/what-is-my-user-agent'\n",
    "browser.get(url)\n",
    "\n",
    "detected_value = browser.find_element_by_id('detected_value')\n",
    "print(detected_value)\n",
    "print(detected_value.text) # get_text() 사용 불가. 이유: webelement이기 때문\n",
    "browser.quit()"
   ]
  },
  {
   "source": [
    "### 위 소스코드의 출력 결과를 보면 HeadlessChrome이라는 부분 찍혀있다.\n",
    "이 경우 특정 웹에서 'HeadlessChrome' 문구를 보고 진입 자체를 막아 버릴수 있으므로 options.add_argument('user-agent'=해당 값)을 넣어주면 된다."
   ],
   "cell_type": "markdown",
   "metadata": {}
  },
  {
   "source": [
    "from selenium import webdriver\n",
    "\n",
    "options = webdriver.ChromeOptions()\n",
    "options.headless = True\n",
    "options.add_argument('window-size=1920x1080' )\n",
    "options.add_argument('user-agent=Mozilla/5.0 (Windows NT 10.0; Win64; x64) AppleWebKit/537.36 (KHTML, like Gecko) Chrome/86.0.4240.111 Safari/537.36')\n",
    "\n",
    "browser = webdriver.Chrome(options=options)\n",
    "browser.maximize_window()\n",
    "\n",
    "url = 'https://www.whatismybrowser.com/detect/what-is-my-user-agent'\n",
    "browser.get(url)\n",
    "\n",
    "detected_value = browser.find_element_by_id('detected_value')\n",
    "print(detected_value)\n",
    "print(detected_value.text) # get_text() 사용 불가. 이유: webelement이기 때문\n",
    "browser.quit()"
   ],
   "cell_type": "code",
   "metadata": {},
   "execution_count": 8,
   "outputs": [
    {
     "output_type": "stream",
     "name": "stdout",
     "text": [
      "<selenium.webdriver.remote.webelement.WebElement (session=\"11a9b52bec7deb72c593e51a876d8587\", element=\"d21b1347-be34-4171-a034-11d08ffcf714\")>\nMozilla/5.0 (Windows NT 10.0; Win64; x64) AppleWebKit/537.36 (KHTML, like Gecko) Chrome/86.0.4240.111 Safari/537.36\n"
     ]
    }
   ]
  },
  {
   "cell_type": "code",
   "execution_count": null,
   "metadata": {},
   "outputs": [],
   "source": []
  }
 ]
}