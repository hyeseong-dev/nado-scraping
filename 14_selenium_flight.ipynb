{
 "metadata": {
  "language_info": {
   "codemirror_mode": {
    "name": "ipython",
    "version": 3
   },
   "file_extension": ".py",
   "mimetype": "text/x-python",
   "name": "python",
   "nbconvert_exporter": "python",
   "pygments_lexer": "ipython3",
   "version": "3.8.2-final"
  },
  "orig_nbformat": 2,
  "kernelspec": {
   "name": "Python 3.8.2 64-bit ('env': venv)",
   "display_name": "Python 3.8.2 64-bit ('env': venv)",
   "metadata": {
    "interpreter": {
     "hash": "3faf6ec55c5430dcc5ab41cd31d9adf0b4f88f3b3c48feaf27494528714f0990"
    }
   }
  }
 },
 "nbformat": 4,
 "nbformat_minor": 2,
 "cells": [
  {
   "cell_type": "code",
   "execution_count": null,
   "metadata": {},
   "outputs": [],
   "source": [
    "!pwd"
   ]
  },
  {
   "cell_type": "code",
   "execution_count": null,
   "metadata": {},
   "outputs": [],
   "source": [
    "from selenium import webdriver\n",
    "from selenium.webdriver.common.by import By\n",
    "from selenium.webdriver.support.ui import WebDriverWait \n",
    "from selenium.webdriver.support import expected_conditions as EC\n",
    "import time\n",
    "browser = webdriver.Chrome()\n",
    "browser.maximize_window() # 창 최대화\n",
    "\n",
    "url = 'https://flight.naver.com/flights/'\n",
    "browser.get(url)\n",
    "time.sleep(1)\n",
    "\n",
    "\n",
    "# <글자를 이용해 태그 선택>\n",
    "\n",
    "\n",
    "# 이번달 27일, 28일 선택\n",
    "browser.find_element_by_link_text('가는날 선택').click()\n",
    "\n",
    "# browser.find_elements_by_link_text('30')[0].click() # [0] -> 이번달\n",
    "# browser.find_elements_by_link_text('31')[0].click() # [0] -> 이번달\n",
    "\n",
    "# 다음달 27일, 28일 선택\n",
    "# browser.find_element_by_link_text('오는날 선택').click()\n",
    "# browser.find_elements_by_link_text('27')[1].click() # [１] -> 다음달\n",
    "# browser.find_elements_by_link_text('28')[1].click() # [１] -> 다음달\n",
    "\n",
    "# 이번달 30일, 다음달 31일 선택 \n",
    "browser.find_elements_by_link_text(\"31\")[0].click() # [0] -> 이번달\n",
    "browser.find_elements_by_link_text(\"1\")[1].click() # [1] -> 다음달\n",
    "\n",
    "# 제주도 선택 \n",
    "# browser.find_element_by_xpath('//*[@id=\"recommendationList\"]/ul/li[1]/div/span').click()\n",
    "\n",
    "# 파리 선택\n",
    "browser.find_element_by_xpath('//*[@id=\"recommendationList\"]/ul/li[8]/div/span').click()\n",
    "\n",
    "# 항공권 검색 클릭 \n",
    "browser.find_element_by_link_text('항공권 검색').click()\n",
    "\n",
    "# 로딩시 처리하기 위한 작업 \n",
    "\n",
    "\n",
    "try:\n",
    "    elem = WebDriverWait(browser, 10).until(EC.presence_of_element_located((By.XPATH, \"//*[@id='content']/div[2]/div/div[4]/ul/li[1]\")))\n",
    "    # 성공했을 때 동작 수행    \n",
    "    print(elem.text) # 첫번째 결과 출력\n",
    "finally:\n",
    "    browser.quit()"
   ]
  },
  {
   "cell_type": "code",
   "execution_count": null,
   "metadata": {},
   "outputs": [],
   "source": [
    "# 첫번째 결과 출력 \n",
    "element = browser.find_elements_by_class_name('txt_pay.ng-binding')[0]\n",
    "print(element.text)"
   ]
  },
  {
   "cell_type": "code",
   "execution_count": null,
   "metadata": {},
   "outputs": [],
   "source": [
    "# 로딩시 처리하기 위한 작업 \n",
    "from selenium.webdriver.common.by import By\n",
    "from selenium.webdriver.support.ui import WebDriverWait \n",
    "from selenium.webdriver.support import expected_conditions as EC"
   ]
  },
  {
   "cell_type": "code",
   "execution_count": null,
   "metadata": {},
   "outputs": [],
   "source": []
  }
 ]
}