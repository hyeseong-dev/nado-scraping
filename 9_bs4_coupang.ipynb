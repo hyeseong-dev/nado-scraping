{
 "cells": [
  {
   "cell_type": "code",
   "execution_count": 29,
   "metadata": {},
   "outputs": [],
   "source": [
    "import requests\n",
    "from bs4 import BeautifulSoup\n",
    "import re"
   ]
  },
  {
   "cell_type": "code",
   "execution_count": 25,
   "metadata": {},
   "outputs": [],
   "source": [
    "requests.packages.urllib3.disable_warnings(requests.packages.urllib3.exceptions.InsecureRequestWarning) # 경고창 뜨지 않게함"
   ]
  },
  {
   "cell_type": "code",
   "execution_count": 26,
   "metadata": {},
   "outputs": [],
   "source": [
    "url = 'https://www.coupang.com/np/search?q=%EB%85%B8%ED%8A%B8%EB%B6%81&channel=user&component=&eventCategory=SRP&trcid=&traid=&sorter=scoreDesc&minPrice=&maxPrice=&priceRange=&filterType=&listSize=36&filter=&isPriceRange=false&brand=&offerCondition=&rating=0&page=1&rocketAll=false&searchIndexingToken=1=4&backgroundColor='\n",
    "# request.get() 메서드의 headers 옵션에 User-Agent key:value 값들을 넣어주어야 오류가 발생하지 않음!\n",
    "headers = {'User-Agent':'Mozilla/5.0 (Windows NT 10.0; Win64; x64) AppleWebKit/537.36 (KHTML, like Gecko) Chrome/86.0.4240.111 Safari/537.36'}\n",
    "res = requests.get(url, verify=False,headers = headers)\n",
    "res.raise_for_status()\n",
    "soup = BeautifulSoup(res.text, 'lxml')"
   ]
  },
  {
   "cell_type": "code",
   "execution_count": 35,
   "metadata": {},
   "outputs": [
    {
     "name": "stdout",
     "output_type": "stream",
     "text": [
      "<class 'bs4.element.ResultSet'>\n",
      "36\n",
      "삼성전자 갤럭시북 이온 노트북 NT950XCJ-X716A 아우라 실버 (i7-10510U 39.6cm MX 250), NVMe 1TB, 16GB, WIN10 Home\n"
     ]
    }
   ],
   "source": [
    "items = soup.find_all('li', attrs={'class':re.compile('^search-product')})\n",
    "print(type(items))\n",
    "print(len(items))\n",
    "\n",
    "print(items[0].find('div', attrs={'class':'name'}).text)"
   ]
  },
  {
   "cell_type": "code",
   "execution_count": 36,
   "metadata": {},
   "outputs": [
    {
     "name": "stdout",
     "output_type": "stream",
     "text": [
      "<class 'bs4.element.ResultSet'>\n",
      "36\n",
      "삼성전자 갤럭시북 이온 노트북 NT950XCJ-X716A 아우라 실버 (i7-10510U 39.6cm MX 250), NVMe 1TB, 16GB, WIN10 Home\n"
     ]
    }
   ],
   "source": [
    "items = soup.find_all('li', attrs={'class':re.compile('search-product')})\n",
    "print(type(items))\n",
    "print(len(items))\n",
    "\n",
    "print(items[0].find('div', attrs={'class':'name'}).text)"
   ]
  },
  {
   "cell_type": "code",
   "execution_count": null,
   "metadata": {
    "jupyter": {
     "source_hidden": true
    }
   },
   "outputs": [],
   "source": []
  },
  {
   "cell_type": "code",
   "execution_count": 81,
   "metadata": {},
   "outputs": [
    {
     "name": "stdout",
     "output_type": "stream",
     "text": [
      "광고 상품은 제외합니다. \n",
      "\n",
      "<Apple 상품 제외합니다.> \n",
      "\n",
      "제품명:  Apple 2020 맥북 에어 13, Silver, 10세대 i3-1.1GHz dual-core, SSD 256GB, 8GB\n",
      "가격:  1,222,830\n",
      "평점:  5.0\n",
      "리뷰수:  769\n",
      "\n",
      "\n",
      "광고 상품은 제외합니다. \n",
      "\n",
      "광고 상품은 제외합니다. \n",
      "\n",
      "광고 상품은 제외합니다. \n",
      "\n",
      "제품명:  삼성전자 갤럭시북 이온 NT950XCJ-K78A (i7-10510U 39.6cm), 포함, NVMe 256GB + NVMe 256GB, 16GB\n",
      "가격:  1,859,000\n",
      "평점:  5.0\n",
      "리뷰수:  116\n",
      "\n",
      "\n",
      "제품명:  삼성전자 갤럭시북 이온 노트북 NT950XCJ-X716A 아우라 실버 (i7-10510U 39.6cm MX 250), NVMe 1TB, 16GB, WIN10 Home\n",
      "가격:  2,098,000\n",
      "평점:  4.5\n",
      "리뷰수:  122\n",
      "\n",
      "\n",
      "제품명:  삼성전자 2020 갤럭시북 플렉스 NT950QCG-X716A (i7-1065G7 39.6cm MX250), NVMe 1TB, 16GB, WIN10 Home\n",
      "가격:  2,568,000\n",
      "평점:  4.5\n",
      "리뷰수:  153\n",
      "\n",
      "\n",
      "<Apple 상품 제외합니다.> \n",
      "\n",
      "제품명:  Apple 2020 맥북 에어 13, Space gray, 10세대 i3-1.1GHz dual-core, SSD 256GB, 8GB\n",
      "가격:  1,222,830\n",
      "평점:  5.0\n",
      "리뷰수:  769\n",
      "\n",
      "\n"
     ]
    }
   ],
   "source": [
    "for item in items :\n",
    "    \n",
    "    # 광고 제품은 제외\n",
    "    ad_badge = item.find('span', attrs={'class':'ad-badge-text'})\n",
    "    if ad_badge:\n",
    "        print('광고 상품은 제외합니다.','\\n')\n",
    "        \n",
    "        continue\n",
    "    \n",
    "    name = item.find('div', attrs={'class':'name'}).get_text()\n",
    "    \n",
    "    # 애플 제품 제외\n",
    "    if 'Apple' in name:\n",
    "        print('<Apple 상품 제외합니다.>','\\n')\n",
    "\n",
    "    price =item.find('strong', attrs={'class':'price-value'}).get_text()\n",
    "    \n",
    "    \n",
    "    # 리뷰 50개 이상, 평점 4.5 이상 되는 것만 조회\n",
    "    rate = item.find('em', attrs={'class':'rating'})\n",
    "    if rate:\n",
    "        rate = rate.get_text()\n",
    "    else:\n",
    "        rate = '평점 없음'\n",
    "        \n",
    "    rate_cnt = item.find('span', attrs={'class':'rating-total-count'})\n",
    "    if rate_cnt:\n",
    "        rate_cnt = rate_cnt.get_text() # 예(26)\n",
    "        rate_cnt = rate_cnt[1:-1]\n",
    "#        print('리뷰 수', rate_cnt)\n",
    "\n",
    "    else:\n",
    "        rate_cnt = '평점 수 없음'\n",
    "        continue\n",
    "    \n",
    "    if float(rate)>=4.5 and int(rate_cnt) >= 100:\n",
    "        print('제품명: ',name)\n",
    "        print('가격: ',price)\n",
    "        print('평점: ',rate)\n",
    "        print('리뷰수: ',rate_cnt)\n",
    "        print('\\n')\n",
    "    \n",
    "\n",
    "    "
   ]
  },
  {
   "cell_type": "code",
   "execution_count": null,
   "metadata": {},
   "outputs": [],
   "source": []
  },
  {
   "cell_type": "code",
   "execution_count": null,
   "metadata": {},
   "outputs": [],
   "source": []
  },
  {
   "cell_type": "code",
   "execution_count": 74,
   "metadata": {},
   "outputs": [
    {
     "name": "stdout",
     "output_type": "stream",
     "text": [
      "9(와)과 1가 선택되었습니다.\n",
      "큰 숫자는 9입니다.\n"
     ]
    }
   ],
   "source": [
    "import random\n",
    "\n",
    "\n",
    "for i in range(1):\n",
    "        num1 = random.randint(1,10)\n",
    "        num2 = random.randint(1,10)\n",
    "        print(f'{num1}(와)과 {num2}가 선택되었습니다.')\n",
    "#         print('동일한 값을 제외하고 다시 선택합니다.')\n",
    "#         if num1 != num2 : \n",
    "            \n",
    "        \n",
    "        \n",
    "if num1 > num2:\n",
    "    print(f'큰 숫자는 {num1}입니다.')\n",
    "elif num1 < num2:\n",
    "    print(f'큰 숫자는 {num2}입니다.')\n",
    "else:\n",
    "    print('동일한 값입니다.')"
   ]
  },
  {
   "cell_type": "code",
   "execution_count": null,
   "metadata": {},
   "outputs": [],
   "source": []
  },
  {
   "cell_type": "code",
   "execution_count": null,
   "metadata": {},
   "outputs": [],
   "source": []
  },
  {
   "cell_type": "code",
   "execution_count": null,
   "metadata": {},
   "outputs": [],
   "source": []
  },
  {
   "cell_type": "code",
   "execution_count": null,
   "metadata": {},
   "outputs": [],
   "source": []
  },
  {
   "cell_type": "code",
   "execution_count": null,
   "metadata": {},
   "outputs": [],
   "source": []
  },
  {
   "cell_type": "code",
   "execution_count": null,
   "metadata": {},
   "outputs": [],
   "source": []
  },
  {
   "cell_type": "code",
   "execution_count": null,
   "metadata": {},
   "outputs": [],
   "source": []
  },
  {
   "cell_type": "code",
   "execution_count": null,
   "metadata": {},
   "outputs": [],
   "source": []
  }
 ],
 "metadata": {
  "kernelspec": {
   "display_name": "Python 3",
   "language": "python",
   "name": "python3"
  },
  "language_info": {
   "codemirror_mode": {
    "name": "ipython",
    "version": 3
   },
   "file_extension": ".py",
   "mimetype": "text/x-python",
   "name": "python",
   "nbconvert_exporter": "python",
   "pygments_lexer": "ipython3",
   "version": "3.8.3"
  }
 },
 "nbformat": 4,
 "nbformat_minor": 4
}
