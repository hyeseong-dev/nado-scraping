{
 "metadata": {
  "language_info": {
   "codemirror_mode": {
    "name": "ipython",
    "version": 3
   },
   "file_extension": ".py",
   "mimetype": "text/x-python",
   "name": "python",
   "nbconvert_exporter": "python",
   "pygments_lexer": "ipython3",
   "version": "3.8.2-final"
  },
  "orig_nbformat": 2,
  "kernelspec": {
   "name": "python3",
   "display_name": "Python 3"
  }
 },
 "nbformat": 4,
 "nbformat_minor": 2,
 "cells": [
  {
   "cell_type": "code",
   "execution_count": 5,
   "metadata": {},
   "outputs": [],
   "source": [
    "import requests\n",
    "from bs4 import BeautifulSoup\n",
    "\n",
    "url = 'https://search.daum.net/search?w=tot&DA=YZR&t__nil_searchbox=btn&sug=&sugo=&sq=&o=&q=%EC%86%A1%ED%8C%8C+%ED%97%AC%EB%A6%AC%EC%98%A4%EC%8B%9C%ED%8B%B0'\n",
    "res = requests.get(url)\n",
    "res.raise_for_status()\n",
    "soup = BeautifulSoup(res.text, 'lxml')\n",
    "\n",
    "with open('quiz.html', 'w', encoding='utf-8') as f:\n",
    "    f.write(soup.prettify())"
   ]
  },
  {
   "cell_type": "code",
   "execution_count": 8,
   "metadata": {},
   "outputs": [
    {
     "output_type": "stream",
     "name": "stdout",
     "text": [
      "====================매물1===================\n거래 :  전세\n면적 :  61/39 (공급/전용)\n가격 :  70,000 (만원)\n동 :  305동\n층 :  중/32\n====================매물2===================\n거래 :  월세\n면적 :  110/84 (공급/전용)\n가격 :  40,000/240 (만원)\n동 :  412동\n층 :  고/29\n====================매물3===================\n거래 :  전세\n면적 :  108/84 (공급/전용)\n가격 :  120,000 (만원)\n동 :  511동\n층 :  고/17\n====================매물4===================\n거래 :  월세\n면적 :  107/84 (공급/전용)\n가격 :  100,000/30 (만원)\n동 :  304동\n층 :  고/26\n====================매물5===================\n거래 :  매매\n면적 :  110/84 (공급/전용)\n가격 :  200,000 (만원)\n동 :  201동\n층 :  고/35\n"
     ]
    }
   ],
   "source": [
    "data_rows = soup.find('table', attrs={'class':'tbl'}).find('tbody').find_all('tr')\n",
    "for idx, row in enumerate(data_rows):\n",
    "    columns = row.find_all('td')\n",
    "    print('====================매물{}==================='.format(idx+1))\n",
    "    print('거래 : ', columns[0].get_text().strip())\n",
    "    print('면적 : ', columns[1].get_text().strip(), '(공급/전용)')\n",
    "    print('가격 : ', columns[2].get_text().strip(), '(만원)')\n",
    "    print('동 : ', columns[3].get_text().strip())\n",
    "    print('층 : ', columns[4].get_text().strip())"
   ]
  },
  {
   "cell_type": "code",
   "execution_count": null,
   "metadata": {},
   "outputs": [],
   "source": []
  }
 ]
}