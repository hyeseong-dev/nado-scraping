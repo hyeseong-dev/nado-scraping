{
 "metadata": {
  "language_info": {
   "codemirror_mode": {
    "name": "ipython",
    "version": 3
   },
   "file_extension": ".py",
   "mimetype": "text/x-python",
   "name": "python",
   "nbconvert_exporter": "python",
   "pygments_lexer": "ipython3",
   "version": "3.8.2-final"
  },
  "orig_nbformat": 2,
  "kernelspec": {
   "name": "Python 3.8.2 64-bit ('env': venv)",
   "display_name": "Python 3.8.2 64-bit ('env': venv)",
   "metadata": {
    "interpreter": {
     "hash": "3faf6ec55c5430dcc5ab41cd31d9adf0b4f88f3b3c48feaf27494528714f0990"
    }
   }
  }
 },
 "nbformat": 4,
 "nbformat_minor": 2,
 "cells": [
  {
   "cell_type": "code",
   "execution_count": 1,
   "metadata": {},
   "outputs": [],
   "source": [
    "import requests\n",
    "from bs4 import BeautifulSoup"
   ]
  },
  {
   "cell_type": "code",
   "execution_count": 3,
   "metadata": {},
   "outputs": [
    {
     "output_type": "stream",
     "name": "stdout",
     "text": [
      "30\n"
     ]
    }
   ],
   "source": [
    "url = 'https://play.google.com/store/movies/top'\n",
    "res = requests.get(url)\n",
    "res.raise_for_status()\n",
    "soup = BeautifulSoup(res.text, 'lxml')\n",
    "\n",
    "movies = soup.find_all('div', attrs={'class':'WHE7ib mpg5gc'})\n",
    "print(len(movies))\n"
   ]
  },
  {
   "source": [],
   "cell_type": "markdown",
   "metadata": {}
  },
  {
   "cell_type": "code",
   "execution_count": 9,
   "metadata": {},
   "outputs": [],
   "source": [
    "with open('movie.html', 'w', encoding='utf-8') as f:\n",
    "    # f.write(res.text)\n",
    "    f.write(soup.prettify()) # html 문서를 예쁘게"
   ]
  },
  {
   "source": [
    "위 코드까지의 문제점이 하나 있다. \n",
    "<h3>즉, 내 브라우저로 직접 손으로 접속하여 찾아본 정보 VS requests 객체로 열어본 url 주소가 돌려주는 정보가 서로 일치하지 않음</h3>   \n",
    "### 해결책 : User-Agent값을 넘겨줌\n",
    "\n",
    "아래 코드를 통해 해결 가능\n"
   ],
   "cell_type": "markdown",
   "metadata": {}
  },
  {
   "cell_type": "code",
   "execution_count": 28,
   "metadata": {},
   "outputs": [
    {
     "output_type": "stream",
     "name": "stdout",
     "text": [
      "10\n"
     ]
    }
   ],
   "source": [
    "import requests\n",
    "from bs4 import BeautifulSoup\n",
    "\n",
    "headers = {'User-Agent':'Mozilla/5.0 (Windows NT 10.0; Win64; x64) AppleWebKit/537.36 (KHTML, like Gecko) Chrome/86.0.4240.111 Safari/537.36',\n",
    "            'Accept-Language':'ko-KR,ko'}\n",
    "\n",
    "url = 'https://play.google.com/store/movies/top'\n",
    "res = requests.get(url, headers = headers)\n",
    "res.raise_for_status()\n",
    "soup = BeautifulSoup(res.text, 'lxml')\n",
    "\n",
    "movies = soup.find_all('div', attrs={'class':'ImZGtf mpg5gc'})\n",
    "print(len(movies))\n",
    "\n",
    "# with open('movie.html', 'w', encoding='utf-8') as f:\n",
    "#     # f.write(res.text)\n",
    "#     f.write(soup.prettify()) # html 문서를 예쁘게"
   ]
  },
  {
   "cell_type": "code",
   "execution_count": 29,
   "metadata": {},
   "outputs": [
    {
     "output_type": "stream",
     "name": "stdout",
     "text": [
      "날씨의 아이 (자막)\n해리포터와 마법사의 돌\n뮬란\n애프터 : 그 후\n기생충\n오케이 마담\n어벤져스 : 엔드게임 (자막판)\n해리포터와 비밀의방\n반도\n국제수사\n"
     ]
    }
   ],
   "source": [
    "for movie in movies:\n",
    "    title = movie.find('div', attrs={'class':'WsMG1c nnK0zc'})\n",
    "    print(title.text)"
   ]
  },
  {
   "cell_type": "code",
   "execution_count": 32,
   "metadata": {},
   "outputs": [
    {
     "output_type": "execute_result",
     "data": {
      "text/plain": [
       "10"
      ]
     },
     "metadata": {},
     "execution_count": 32
    }
   ],
   "source": []
  },
  {
   "cell_type": "code",
   "execution_count": null,
   "metadata": {},
   "outputs": [],
   "source": []
  }
 ]
}