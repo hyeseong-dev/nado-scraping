{
 "cells": [
  {
   "cell_type": "code",
   "execution_count": null,
   "metadata": {},
   "outputs": [],
   "source": [
    "import requests\n",
    "from bs4 import BeautifulSoup\n",
    "import lxml"
   ]
  },
  {
   "cell_type": "code",
   "execution_count": null,
   "metadata": {},
   "outputs": [],
   "source": [
    "url = 'https://comic.naver.com/webtoon/weekday.nhn'\n",
    "res = requests.get(url, verify=False)\n",
    "res.raise_for_status()"
   ]
  },
  {
   "cell_type": "code",
   "execution_count": null,
   "metadata": {},
   "outputs": [],
   "source": [
    "soup = BeautifulSoup(res.text, 'lxml')\n",
    "print(soup.title)\n",
    "print(soup.title.get_text()) # get_text() ==  text 와 동일한 결과를 보여줌"
   ]
  },
  {
   "cell_type": "code",
   "execution_count": null,
   "metadata": {},
   "outputs": [],
   "source": [
    "print(soup.a) # 첫번째 a 태그를 가져오서 보여줌."
   ]
  },
  {
   "cell_type": "code",
   "execution_count": null,
   "metadata": {},
   "outputs": [],
   "source": [
    "print(type(soup.a.attrs)) # 첫번째 a태그의 attrs 속성들!!을 보여줌\n",
    "\n",
    "print(soup.a.attrs) # 첫번째 a태그의 attrs 속성들!!을 보여줌"
   ]
  },
  {
   "cell_type": "code",
   "execution_count": null,
   "metadata": {},
   "outputs": [],
   "source": [
    "print(soup.a['href']) # 첫번째 a태그의 attrs 속성들!!을 보여줌\n",
    "print(soup.a.get('href')) # get() 메서드를 사용해서 딕셔너리의 key값을 인자로 넣고 value를 리턴 받는다.\n",
    "\n"
   ]
  },
  {
   "cell_type": "code",
   "execution_count": null,
   "metadata": {},
   "outputs": [],
   "source": [
    "print(soup.find('a', attrs={'class':'Nbtn_upload'})) # 첫번째 태그의 2번쨰 속성값 attrs = {'Key':'Value' }\n",
    "print(soup.find(attrs={'class':'Nbtn_upload'})) # 첫번째 태그의 1번쨰 속성값 attrs = {'Key':'Value' }\n",
    "\n",
    "print(soup.find('a', class_='Nbtn_upload')) # find('태그명', attrs={'key':'value'}) 와 동일\n",
    "print(soup.find(class_='Nbtn_upload')) # find( attrs={'key':'value'}) 와 동일\n",
    "\n"
   ]
  },
  {
   "cell_type": "code",
   "execution_count": null,
   "metadata": {},
   "outputs": [],
   "source": [
    "rank1 = (soup.find('li', attrs={'class':'rank01'}))"
   ]
  },
  {
   "cell_type": "code",
   "execution_count": null,
   "metadata": {},
   "outputs": [],
   "source": [
    "rank1.a.text"
   ]
  },
  {
   "cell_type": "code",
   "execution_count": null,
   "metadata": {},
   "outputs": [],
   "source": [
    "print(rank1.a.next_sibling)\n",
    "print('-----==============================')\n",
    "\n",
    "print(rank1.a.next_sibling.next_sibling)\n",
    "print('-----==============================')\n",
    "print(rank1.next_sibling.next_sibling.next_sibling)\n",
    "print('-----==============================')\n",
    "\n",
    "print(rank1.next_sibling.next_sibling.next_sibling.next_sibling.a.text)\n",
    "print('-----==============================')\n",
    "\n"
   ]
  },
  {
   "cell_type": "code",
   "execution_count": null,
   "metadata": {},
   "outputs": [],
   "source": [
    "rank1.parent # 부모태그"
   ]
  },
  {
   "cell_type": "code",
   "execution_count": null,
   "metadata": {},
   "outputs": [],
   "source": [
    "rank1.find_next_sibling('li').a.get_text()"
   ]
  },
  {
   "cell_type": "code",
   "execution_count": null,
   "metadata": {},
   "outputs": [],
   "source": [
    "rank2 = rank1.find_next_sibling('li')\n",
    "print(type(rank2))\n",
    "print((rank2.children))\n",
    "for i in rank2.children:\n",
    "    print(i)\n",
    "print('==========================================')\n",
    "print(rank2.a.get_text())\n",
    "rank3 = rank2.find_next_sibling('li')\n",
    "print(rank3.a.get_text())"
   ]
  },
  {
   "cell_type": "code",
   "execution_count": null,
   "metadata": {},
   "outputs": [],
   "source": [
    "print(len(rank1.find_next_siblings('li')))\n",
    "\n",
    "print(type(rank1.find_next_siblings('li')))\n",
    "1+1\n",
    "\n",
    "for i in rank1.find_next_siblings('li'):\n",
    "    print(i)"
   ]
  },
  {
   "cell_type": "code",
   "execution_count": null,
   "metadata": {},
   "outputs": [],
   "source": [
    "webtoon = soup.find('a', text='고수-2부 120화') # 반대로 텍스트를 통해서 해당 태그를 가져다 올 수 있음.\n",
    "webtoon"
   ]
  },
  {
   "source": [],
   "cell_type": "markdown",
   "metadata": {}
  },
  {
   "cell_type": "code",
   "execution_count": null,
   "metadata": {},
   "outputs": [],
   "source": []
  },
  {
   "cell_type": "code",
   "execution_count": null,
   "metadata": {},
   "outputs": [],
   "source": []
  }
 ],
 "metadata": {
  "kernelspec": {
   "display_name": "Python 3",
   "language": "python",
   "name": "python3"
  },
  "language_info": {
   "codemirror_mode": {
    "name": "ipython",
    "version": 3
   },
   "file_extension": ".py",
   "mimetype": "text/x-python",
   "name": "python",
   "nbconvert_exporter": "python",
   "pygments_lexer": "ipython3",
   "version": "3.8.3-final"
  }
 },
 "nbformat": 4,
 "nbformat_minor": 4
}