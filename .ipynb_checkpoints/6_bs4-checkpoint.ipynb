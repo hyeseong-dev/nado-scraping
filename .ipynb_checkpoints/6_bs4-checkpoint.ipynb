{
 "metadata": {
  "language_info": {
   "codemirror_mode": {
    "name": "ipython",
    "version": 3
   },
   "file_extension": ".py",
   "mimetype": "text/x-python",
   "name": "python",
   "nbconvert_exporter": "python",
   "pygments_lexer": "ipython3",
   "version": "3.8.3-final"
  },
  "orig_nbformat": 2,
  "kernelspec": {
   "name": "Python 3.8.3 64-bit ('venv')",
   "display_name": "Python 3.8.3 64-bit ('venv')",
   "metadata": {
    "interpreter": {
     "hash": "064e112c79590ea2bd284bd1acc21b0c42850105f4685c681f43fc8bc2113de4"
    }
   }
  }
 },
 "nbformat": 4,
 "nbformat_minor": 2,
 "cells": [
  {
   "cell_type": "code",
   "execution_count": 2,
   "metadata": {},
   "outputs": [],
   "source": [
    "import requests\n",
    "from bs4 import BeautifulSoup\n",
    "import lxml"
   ]
  },
  {
   "cell_type": "code",
   "execution_count": 3,
   "metadata": {},
   "outputs": [],
   "source": [
    "url = 'https://comic.naver.com/webtoon/weekday.nhn'\n",
    "res = requests.get(url, verify=False)\n",
    "res.raise_for_status()"
   ]
  },
  {
   "cell_type": "code",
   "execution_count": 11,
   "metadata": {},
   "outputs": [
    {
     "output_type": "stream",
     "name": "stdout",
     "text": [
      "<title>네이버 만화 &gt; 요일별  웹툰 &gt; 전체웹툰</title>\n네이버 만화 > 요일별  웹툰 > 전체웹툰\n"
     ]
    }
   ],
   "source": [
    "soup = BeautifulSoup(res.text, 'lxml')\n",
    "print(soup.title)\n",
    "print(soup.title.get_text()) # get_text() ==  text 와 동일한 결과를 보여줌"
   ]
  },
  {
   "cell_type": "code",
   "execution_count": 13,
   "metadata": {},
   "outputs": [
    {
     "output_type": "stream",
     "name": "stdout",
     "text": [
      "<a href=\"#menu\" onclick=\"document.getElementById('menu').tabIndex=-1;document.getElementById('menu').focus();return false;\"><span>메인 메뉴로 바로가기</span></a>\n"
     ]
    }
   ],
   "source": [
    "print(soup.a) # 첫번째 a 태그를 가져오서 보여줌."
   ]
  },
  {
   "cell_type": "code",
   "execution_count": 23,
   "metadata": {},
   "outputs": [
    {
     "output_type": "stream",
     "name": "stdout",
     "text": [
      "<class 'dict'>\n{'href': '#menu', 'onclick': \"document.getElementById('menu').tabIndex=-1;document.getElementById('menu').focus();return false;\"}\n"
     ]
    }
   ],
   "source": [
    "print(type(soup.a.attrs)) # 첫번째 a태그의 attrs 속성들!!을 보여줌\n",
    "\n",
    "print(soup.a.attrs) # 첫번째 a태그의 attrs 속성들!!을 보여줌"
   ]
  },
  {
   "cell_type": "code",
   "execution_count": 25,
   "metadata": {},
   "outputs": [
    {
     "output_type": "stream",
     "name": "stdout",
     "text": [
      "#menu\n#menu\n"
     ]
    }
   ],
   "source": [
    "print(soup.a['href']) # 첫번째 a태그의 attrs 속성들!!을 보여줌\n",
    "print(soup.a.get('href')) # get() 메서드를 사용해서 딕셔너리의 key값을 인자로 넣고 value를 리턴 받는다.\n",
    "\n"
   ]
  },
  {
   "cell_type": "code",
   "execution_count": 30,
   "metadata": {},
   "outputs": [
    {
     "output_type": "stream",
     "name": "stdout",
     "text": [
      "<a class=\"Nbtn_upload\" href=\"/mypage/myActivity.nhn\" onclick=\"nclk_v2(event,'olk.upload');\">웹툰 올리기</a>\n<a class=\"Nbtn_upload\" href=\"/mypage/myActivity.nhn\" onclick=\"nclk_v2(event,'olk.upload');\">웹툰 올리기</a>\n<a class=\"Nbtn_upload\" href=\"/mypage/myActivity.nhn\" onclick=\"nclk_v2(event,'olk.upload');\">웹툰 올리기</a>\n<a class=\"Nbtn_upload\" href=\"/mypage/myActivity.nhn\" onclick=\"nclk_v2(event,'olk.upload');\">웹툰 올리기</a>\n"
     ]
    }
   ],
   "source": [
    "print(soup.find('a', attrs={'class':'Nbtn_upload'})) # 첫번째 태그의 2번쨰 속성값 attrs = {'Key':'Value' }\n",
    "print(soup.find(attrs={'class':'Nbtn_upload'})) # 첫번째 태그의 1번쨰 속성값 attrs = {'Key':'Value' }\n",
    "\n",
    "print(soup.find('a', class_='Nbtn_upload')) # find('태그명', attrs={'key':'value'}) 와 동일\n",
    "print(soup.find(class_='Nbtn_upload')) # find( attrs={'key':'value'}) 와 동일\n",
    "\n"
   ]
  },
  {
   "cell_type": "code",
   "execution_count": 51,
   "metadata": {},
   "outputs": [],
   "source": [
    "rank1 = (soup.find('li', attrs={'class':'rank01'}))"
   ]
  },
  {
   "cell_type": "code",
   "execution_count": 34,
   "metadata": {},
   "outputs": [
    {
     "output_type": "execute_result",
     "data": {
      "text/plain": [
       "'고수-2부 120화'"
      ]
     },
     "metadata": {},
     "execution_count": 34
    }
   ],
   "source": [
    "rank1.a.text"
   ]
  },
  {
   "cell_type": "code",
   "execution_count": 60,
   "metadata": {},
   "outputs": [
    {
     "output_type": "stream",
     "name": "stdout",
     "text": [
      "\n\n-----==============================\n<span class=\"rankBox\">\n<img alt=\"변동없음\" height=\"10\" src=\"https://ssl.pstatic.net/static/comic/images/migration/common/arrow_no.gif\" title=\"변동없음\" width=\"7\"/> 0\n\t\t\t\t\t\t\n\t\t\t\t\t\n\t\t\t\t</span>\n-----==============================\n\n\n-----==============================\n복학왕-315화 두더지 마을 2화\n-----==============================\n"
     ]
    }
   ],
   "source": [
    "print(rank1.a.next_sibling)\n",
    "print('-----==============================')\n",
    "\n",
    "print(rank1.a.next_sibling.next_sibling)\n",
    "print('-----==============================')\n",
    "print(rank1.next_sibling.next_sibling.next_sibling)\n",
    "print('-----==============================')\n",
    "\n",
    "print(rank1.next_sibling.next_sibling.next_sibling.next_sibling.a.text)\n",
    "print('-----==============================')\n",
    "\n"
   ]
  },
  {
   "cell_type": "code",
   "execution_count": 62,
   "metadata": {},
   "outputs": [
    {
     "output_type": "execute_result",
     "data": {
      "text/plain": [
       "<ol class=\"asideBoxRank\" id=\"realTimeRankFavorite\">\n",
       "<li class=\"rank01\">\n",
       "<a href=\"/webtoon/detail.nhn?titleId=662774&amp;no=210\" onclick=\"nclk_v2(event,'rnk*p.cont','662774','1')\" title=\"고수-2부 120화\">고수-2부 120화</a>\n",
       "<span class=\"rankBox\">\n",
       "<img alt=\"변동없음\" height=\"10\" src=\"https://ssl.pstatic.net/static/comic/images/migration/common/arrow_no.gif\" title=\"변동없음\" width=\"7\"/> 0\n",
       "\t\t\t\t\t\t\n",
       "\t\t\t\t\t\n",
       "\t\t\t\t</span>\n",
       "</li>\n",
       "<li class=\"rank02\">\n",
       "<a href=\"/webtoon/detail.nhn?titleId=747269&amp;no=24\" onclick=\"nclk_v2(event,'rnk*p.cont','747269','2')\" title=\"전지적 독자 시점-023. Ep.06 심판의 시간 (2)\">전지적 독자 시점-023. Ep.06 심판의 시간 (2)</a>\n",
       "<span class=\"rankBox\">\n",
       "<img alt=\"변동없음\" height=\"10\" src=\"https://ssl.pstatic.net/static/comic/images/migration/common/arrow_no.gif\" title=\"변동없음\" width=\"7\"/> 0\n",
       "\t\t\t\t\t\t\n",
       "\t\t\t\t\t\n",
       "\t\t\t\t</span>\n",
       "</li>\n",
       "<li class=\"rank03\">\n",
       "<a href=\"/webtoon/detail.nhn?titleId=626907&amp;no=317\" onclick=\"nclk_v2(event,'rnk*p.cont','626907','3')\" title=\"복학왕-315화 두더지 마을 2화\">복학왕-315화 두더지 마을 2화</a>\n",
       "<span class=\"rankBox\">\n",
       "<img alt=\"변동없음\" height=\"10\" src=\"https://ssl.pstatic.net/static/comic/images/migration/common/arrow_no.gif\" title=\"변동없음\" width=\"7\"/> 0\n",
       "\t\t\t\t\t\t\n",
       "\t\t\t\t\t\n",
       "\t\t\t\t</span>\n",
       "</li>\n",
       "<li class=\"rank04\">\n",
       "<a href=\"/webtoon/detail.nhn?titleId=738143&amp;no=46\" onclick=\"nclk_v2(event,'rnk*p.cont','738143','4')\" title=\"여주실격!-46화 이번엔 진짜 사귀자\">여주실격!-46화 이번엔 진짜 사귀자</a>\n",
       "<span class=\"rankBox\">\n",
       "<img alt=\"변동없음\" height=\"10\" src=\"https://ssl.pstatic.net/static/comic/images/migration/common/arrow_no.gif\" title=\"변동없음\" width=\"7\"/> 0\n",
       "\t\t\t\t\t\t\n",
       "\t\t\t\t\t\n",
       "\t\t\t\t</span>\n",
       "</li>\n",
       "<li class=\"rank05\">\n",
       "<a href=\"/webtoon/detail.nhn?titleId=749639&amp;no=17\" onclick=\"nclk_v2(event,'rnk*p.cont','749639','5')\" title=\"남주의 첫날밤을 가져버렸다-17화\">남주의 첫날밤을 가져버렸다-17화</a>\n",
       "<span class=\"rankBox\">\n",
       "<img alt=\"순위상승\" height=\"10\" src=\"https://ssl.pstatic.net/static/comic/images/migration/common/arrow_up.gif\" title=\"순위상승\" width=\"7\"/>1\n",
       "\t\t\t\t\t\t\n",
       "\t\t\t\t\t\t\n",
       "\t\t\t\t\t\n",
       "\t\t\t\t</span>\n",
       "</li>\n",
       "<li class=\"rank06\">\n",
       "<a href=\"/webtoon/detail.nhn?titleId=733079&amp;no=53\" onclick=\"nclk_v2(event,'rnk*p.cont','733079','6')\" title=\"원수를 사랑하라-53화\">원수를 사랑하라-53화</a>\n",
       "<span class=\"rankBox\">\n",
       "<img alt=\"순위하락\" height=\"10\" src=\"https://ssl.pstatic.net/static/comic/images/migration/common/arrow_down.gif\" title=\"순위하락\" width=\"7\"/>1\n",
       "\t\t\t\t\t\t\n",
       "\t\t\t\t\t\t\n",
       "\t\t\t\t\t\t\n",
       "\t\t\t\t\t\n",
       "\t\t\t\t</span>\n",
       "</li>\n",
       "<li class=\"rank07\">\n",
       "<a href=\"/webtoon/detail.nhn?titleId=738694&amp;no=27\" onclick=\"nclk_v2(event,'rnk*p.cont','738694','7')\" title=\"튜토리얼 탑의 고인물-27화\">튜토리얼 탑의 고인물-27화</a>\n",
       "<span class=\"rankBox\">\n",
       "<img alt=\"변동없음\" height=\"10\" src=\"https://ssl.pstatic.net/static/comic/images/migration/common/arrow_no.gif\" title=\"변동없음\" width=\"7\"/> 0\n",
       "\t\t\t\t\t\t\n",
       "\t\t\t\t\t\n",
       "\t\t\t\t</span>\n",
       "</li>\n",
       "<li class=\"rank08\">\n",
       "<a href=\"/webtoon/detail.nhn?titleId=701535&amp;no=159\" onclick=\"nclk_v2(event,'rnk*p.cont','701535','8')\" title=\"격기3반-ROUND 84. 약자 멸시 (1)\">격기3반-ROUND 84. 약자 멸시 (1)</a>\n",
       "<span class=\"rankBox\">\n",
       "<img alt=\"변동없음\" height=\"10\" src=\"https://ssl.pstatic.net/static/comic/images/migration/common/arrow_no.gif\" title=\"변동없음\" width=\"7\"/> 0\n",
       "\t\t\t\t\t\t\n",
       "\t\t\t\t\t\n",
       "\t\t\t\t</span>\n",
       "</li>\n",
       "<li class=\"rank09\">\n",
       "<a href=\"/webtoon/detail.nhn?titleId=750184&amp;no=13\" onclick=\"nclk_v2(event,'rnk*p.cont','750184','9')\" title=\"나쁜사람-13화\">나쁜사람-13화</a>\n",
       "<span class=\"rankBox\">\n",
       "<img alt=\"변동없음\" height=\"10\" src=\"https://ssl.pstatic.net/static/comic/images/migration/common/arrow_no.gif\" title=\"변동없음\" width=\"7\"/> 0\n",
       "\t\t\t\t\t\t\n",
       "\t\t\t\t\t\n",
       "\t\t\t\t</span>\n",
       "</li>\n",
       "<li class=\"rank10\">\n",
       "<a href=\"/webtoon/detail.nhn?titleId=728015&amp;no=156\" onclick=\"nclk_v2(event,'rnk*p.cont','728015','10')\" title=\"모죠의 일지-156화. 최적의 자세\">모죠의 일지-156화. 최적의 자세</a>\n",
       "<span class=\"rankBox\">\n",
       "<img alt=\"변동없음\" height=\"10\" src=\"https://ssl.pstatic.net/static/comic/images/migration/common/arrow_no.gif\" title=\"변동없음\" width=\"7\"/> 0\n",
       "\t\t\t\t\t\t\n",
       "\t\t\t\t\t\n",
       "\t\t\t\t</span>\n",
       "</li>\n",
       "</ol>"
      ]
     },
     "metadata": {},
     "execution_count": 62
    }
   ],
   "source": [
    "rank1.parent # 부모태그"
   ]
  },
  {
   "cell_type": "code",
   "execution_count": 65,
   "metadata": {},
   "outputs": [
    {
     "output_type": "execute_result",
     "data": {
      "text/plain": [
       "'전지적 독자 시점-023. Ep.06 심판의 시간 (2)'"
      ]
     },
     "metadata": {},
     "execution_count": 65
    }
   ],
   "source": [
    "rank1.find_next_sibling('li').a.get_text()"
   ]
  },
  {
   "cell_type": "code",
   "execution_count": 75,
   "metadata": {},
   "outputs": [
    {
     "output_type": "stream",
     "name": "stdout",
     "text": [
      "<class 'bs4.element.Tag'>\n<list_iterator object at 0x000002137E6C7AC0>\n\n\n<a href=\"/webtoon/detail.nhn?titleId=747269&amp;no=24\" onclick=\"nclk_v2(event,'rnk*p.cont','747269','2')\" title=\"전지적 독자 시점-023. Ep.06 심판의 시간 (2)\">전지적 독자 시점-023. Ep.06 심판의 시간 (2)</a>\n\n\n<span class=\"rankBox\">\n<img alt=\"변동없음\" height=\"10\" src=\"https://ssl.pstatic.net/static/comic/images/migration/common/arrow_no.gif\" title=\"변동없음\" width=\"7\"/> 0\n\t\t\t\t\t\t\n\t\t\t\t\t\n\t\t\t\t</span>\n\n\n==========================================\n전지적 독자 시점-023. Ep.06 심판의 시간 (2)\n복학왕-315화 두더지 마을 2화\n"
     ]
    }
   ],
   "source": [
    "rank2 = rank1.find_next_sibling('li')\n",
    "print(type(rank2))\n",
    "print((rank2.children))\n",
    "for i in rank2.children:\n",
    "    print(i)\n",
    "print('==========================================')\n",
    "print(rank2.a.get_text())\n",
    "rank3 = rank2.find_next_sibling('li')\n",
    "print(rank3.a.get_text())"
   ]
  },
  {
   "cell_type": "code",
   "execution_count": 79,
   "metadata": {},
   "outputs": [
    {
     "output_type": "stream",
     "name": "stdout",
     "text": [
      "9\n<class 'bs4.element.ResultSet'>\n[<li class=\"rank02\">\n<a href=\"/webtoon/detail.nhn?titleId=747269&amp;no=24\" onclick=\"nclk_v2(event,'rnk*p.cont','747269','2')\" title=\"전지적 독자 시점-023. Ep.06 심판의 시간 (2)\">전지적 독자 시점-023. Ep.06 심판의 시간 (2)</a>\n<span class=\"rankBox\">\n<img alt=\"변동없음\" height=\"10\" src=\"https://ssl.pstatic.net/static/comic/images/migration/common/arrow_no.gif\" title=\"변동없음\" width=\"7\"/> 0\n\t\t\t\t\t\t\n\t\t\t\t\t\n\t\t\t\t</span>\n</li>, <li class=\"rank03\">\n<a href=\"/webtoon/detail.nhn?titleId=626907&amp;no=317\" onclick=\"nclk_v2(event,'rnk*p.cont','626907','3')\" title=\"복학왕-315화 두더지 마을 2화\">복학왕-315화 두더지 마을 2화</a>\n<span class=\"rankBox\">\n<img alt=\"변동없음\" height=\"10\" src=\"https://ssl.pstatic.net/static/comic/images/migration/common/arrow_no.gif\" title=\"변동없음\" width=\"7\"/> 0\n\t\t\t\t\t\t\n\t\t\t\t\t\n\t\t\t\t</span>\n</li>, <li class=\"rank04\">\n<a href=\"/webtoon/detail.nhn?titleId=738143&amp;no=46\" onclick=\"nclk_v2(event,'rnk*p.cont','738143','4')\" title=\"여주실격!-46화 이번엔 진짜 사귀자\">여주실격!-46화 이번엔 진짜 사귀자</a>\n<span class=\"rankBox\">\n<img alt=\"변동없음\" height=\"10\" src=\"https://ssl.pstatic.net/static/comic/images/migration/common/arrow_no.gif\" title=\"변동없음\" width=\"7\"/> 0\n\t\t\t\t\t\t\n\t\t\t\t\t\n\t\t\t\t</span>\n</li>, <li class=\"rank05\">\n<a href=\"/webtoon/detail.nhn?titleId=749639&amp;no=17\" onclick=\"nclk_v2(event,'rnk*p.cont','749639','5')\" title=\"남주의 첫날밤을 가져버렸다-17화\">남주의 첫날밤을 가져버렸다-17화</a>\n<span class=\"rankBox\">\n<img alt=\"순위상승\" height=\"10\" src=\"https://ssl.pstatic.net/static/comic/images/migration/common/arrow_up.gif\" title=\"순위상승\" width=\"7\"/>1\n\t\t\t\t\t\t\n\t\t\t\t\t\t\n\t\t\t\t\t\n\t\t\t\t</span>\n</li>, <li class=\"rank06\">\n<a href=\"/webtoon/detail.nhn?titleId=733079&amp;no=53\" onclick=\"nclk_v2(event,'rnk*p.cont','733079','6')\" title=\"원수를 사랑하라-53화\">원수를 사랑하라-53화</a>\n<span class=\"rankBox\">\n<img alt=\"순위하락\" height=\"10\" src=\"https://ssl.pstatic.net/static/comic/images/migration/common/arrow_down.gif\" title=\"순위하락\" width=\"7\"/>1\n\t\t\t\t\t\t\n\t\t\t\t\t\t\n\t\t\t\t\t\t\n\t\t\t\t\t\n\t\t\t\t</span>\n</li>, <li class=\"rank07\">\n<a href=\"/webtoon/detail.nhn?titleId=738694&amp;no=27\" onclick=\"nclk_v2(event,'rnk*p.cont','738694','7')\" title=\"튜토리얼 탑의 고인물-27화\">튜토리얼 탑의 고인물-27화</a>\n<span class=\"rankBox\">\n<img alt=\"변동없음\" height=\"10\" src=\"https://ssl.pstatic.net/static/comic/images/migration/common/arrow_no.gif\" title=\"변동없음\" width=\"7\"/> 0\n\t\t\t\t\t\t\n\t\t\t\t\t\n\t\t\t\t</span>\n</li>, <li class=\"rank08\">\n<a href=\"/webtoon/detail.nhn?titleId=701535&amp;no=159\" onclick=\"nclk_v2(event,'rnk*p.cont','701535','8')\" title=\"격기3반-ROUND 84. 약자 멸시 (1)\">격기3반-ROUND 84. 약자 멸시 (1)</a>\n<span class=\"rankBox\">\n<img alt=\"변동없음\" height=\"10\" src=\"https://ssl.pstatic.net/static/comic/images/migration/common/arrow_no.gif\" title=\"변동없음\" width=\"7\"/> 0\n\t\t\t\t\t\t\n\t\t\t\t\t\n\t\t\t\t</span>\n</li>, <li class=\"rank09\">\n<a href=\"/webtoon/detail.nhn?titleId=750184&amp;no=13\" onclick=\"nclk_v2(event,'rnk*p.cont','750184','9')\" title=\"나쁜사람-13화\">나쁜사람-13화</a>\n<span class=\"rankBox\">\n<img alt=\"변동없음\" height=\"10\" src=\"https://ssl.pstatic.net/static/comic/images/migration/common/arrow_no.gif\" title=\"변동없음\" width=\"7\"/> 0\n\t\t\t\t\t\t\n\t\t\t\t\t\n\t\t\t\t</span>\n</li>, <li class=\"rank10\">\n<a href=\"/webtoon/detail.nhn?titleId=728015&amp;no=156\" onclick=\"nclk_v2(event,'rnk*p.cont','728015','10')\" title=\"모죠의 일지-156화. 최적의 자세\">모죠의 일지-156화. 최적의 자세</a>\n<span class=\"rankBox\">\n<img alt=\"변동없음\" height=\"10\" src=\"https://ssl.pstatic.net/static/comic/images/migration/common/arrow_no.gif\" title=\"변동없음\" width=\"7\"/> 0\n\t\t\t\t\t\t\n\t\t\t\t\t\n\t\t\t\t</span>\n</li>]\n<li class=\"rank02\">\n<a href=\"/webtoon/detail.nhn?titleId=747269&amp;no=24\" onclick=\"nclk_v2(event,'rnk*p.cont','747269','2')\" title=\"전지적 독자 시점-023. Ep.06 심판의 시간 (2)\">전지적 독자 시점-023. Ep.06 심판의 시간 (2)</a>\n<span class=\"rankBox\">\n<img alt=\"변동없음\" height=\"10\" src=\"https://ssl.pstatic.net/static/comic/images/migration/common/arrow_no.gif\" title=\"변동없음\" width=\"7\"/> 0\n\t\t\t\t\t\t\n\t\t\t\t\t\n\t\t\t\t</span>\n</li>\n<li class=\"rank03\">\n<a href=\"/webtoon/detail.nhn?titleId=626907&amp;no=317\" onclick=\"nclk_v2(event,'rnk*p.cont','626907','3')\" title=\"복학왕-315화 두더지 마을 2화\">복학왕-315화 두더지 마을 2화</a>\n<span class=\"rankBox\">\n<img alt=\"변동없음\" height=\"10\" src=\"https://ssl.pstatic.net/static/comic/images/migration/common/arrow_no.gif\" title=\"변동없음\" width=\"7\"/> 0\n\t\t\t\t\t\t\n\t\t\t\t\t\n\t\t\t\t</span>\n</li>\n<li class=\"rank04\">\n<a href=\"/webtoon/detail.nhn?titleId=738143&amp;no=46\" onclick=\"nclk_v2(event,'rnk*p.cont','738143','4')\" title=\"여주실격!-46화 이번엔 진짜 사귀자\">여주실격!-46화 이번엔 진짜 사귀자</a>\n<span class=\"rankBox\">\n<img alt=\"변동없음\" height=\"10\" src=\"https://ssl.pstatic.net/static/comic/images/migration/common/arrow_no.gif\" title=\"변동없음\" width=\"7\"/> 0\n\t\t\t\t\t\t\n\t\t\t\t\t\n\t\t\t\t</span>\n</li>\n<li class=\"rank05\">\n<a href=\"/webtoon/detail.nhn?titleId=749639&amp;no=17\" onclick=\"nclk_v2(event,'rnk*p.cont','749639','5')\" title=\"남주의 첫날밤을 가져버렸다-17화\">남주의 첫날밤을 가져버렸다-17화</a>\n<span class=\"rankBox\">\n<img alt=\"순위상승\" height=\"10\" src=\"https://ssl.pstatic.net/static/comic/images/migration/common/arrow_up.gif\" title=\"순위상승\" width=\"7\"/>1\n\t\t\t\t\t\t\n\t\t\t\t\t\t\n\t\t\t\t\t\n\t\t\t\t</span>\n</li>\n<li class=\"rank06\">\n<a href=\"/webtoon/detail.nhn?titleId=733079&amp;no=53\" onclick=\"nclk_v2(event,'rnk*p.cont','733079','6')\" title=\"원수를 사랑하라-53화\">원수를 사랑하라-53화</a>\n<span class=\"rankBox\">\n<img alt=\"순위하락\" height=\"10\" src=\"https://ssl.pstatic.net/static/comic/images/migration/common/arrow_down.gif\" title=\"순위하락\" width=\"7\"/>1\n\t\t\t\t\t\t\n\t\t\t\t\t\t\n\t\t\t\t\t\t\n\t\t\t\t\t\n\t\t\t\t</span>\n</li>\n<li class=\"rank07\">\n<a href=\"/webtoon/detail.nhn?titleId=738694&amp;no=27\" onclick=\"nclk_v2(event,'rnk*p.cont','738694','7')\" title=\"튜토리얼 탑의 고인물-27화\">튜토리얼 탑의 고인물-27화</a>\n<span class=\"rankBox\">\n<img alt=\"변동없음\" height=\"10\" src=\"https://ssl.pstatic.net/static/comic/images/migration/common/arrow_no.gif\" title=\"변동없음\" width=\"7\"/> 0\n\t\t\t\t\t\t\n\t\t\t\t\t\n\t\t\t\t</span>\n</li>\n<li class=\"rank08\">\n<a href=\"/webtoon/detail.nhn?titleId=701535&amp;no=159\" onclick=\"nclk_v2(event,'rnk*p.cont','701535','8')\" title=\"격기3반-ROUND 84. 약자 멸시 (1)\">격기3반-ROUND 84. 약자 멸시 (1)</a>\n<span class=\"rankBox\">\n<img alt=\"변동없음\" height=\"10\" src=\"https://ssl.pstatic.net/static/comic/images/migration/common/arrow_no.gif\" title=\"변동없음\" width=\"7\"/> 0\n\t\t\t\t\t\t\n\t\t\t\t\t\n\t\t\t\t</span>\n</li>\n<li class=\"rank09\">\n<a href=\"/webtoon/detail.nhn?titleId=750184&amp;no=13\" onclick=\"nclk_v2(event,'rnk*p.cont','750184','9')\" title=\"나쁜사람-13화\">나쁜사람-13화</a>\n<span class=\"rankBox\">\n<img alt=\"변동없음\" height=\"10\" src=\"https://ssl.pstatic.net/static/comic/images/migration/common/arrow_no.gif\" title=\"변동없음\" width=\"7\"/> 0\n\t\t\t\t\t\t\n\t\t\t\t\t\n\t\t\t\t</span>\n</li>\n<li class=\"rank10\">\n<a href=\"/webtoon/detail.nhn?titleId=728015&amp;no=156\" onclick=\"nclk_v2(event,'rnk*p.cont','728015','10')\" title=\"모죠의 일지-156화. 최적의 자세\">모죠의 일지-156화. 최적의 자세</a>\n<span class=\"rankBox\">\n<img alt=\"변동없음\" height=\"10\" src=\"https://ssl.pstatic.net/static/comic/images/migration/common/arrow_no.gif\" title=\"변동없음\" width=\"7\"/> 0\n\t\t\t\t\t\t\n\t\t\t\t\t\n\t\t\t\t</span>\n</li>\n"
     ]
    }
   ],
   "source": [
    "print(len(rank1.find_next_siblings('li')))\n",
    "\n",
    "print(type(rank1.find_next_siblings('li')))\n",
    "\n",
    "print(rank1.find_next_siblings('li'))//\n",
    "\n",
    "for i in rank1.find_next_siblings('li'):\n",
    "    print(i)"
   ]
  },
  {
   "cell_type": "code",
   "execution_count": null,
   "metadata": {},
   "outputs": [],
   "source": []
  }
 ]
}