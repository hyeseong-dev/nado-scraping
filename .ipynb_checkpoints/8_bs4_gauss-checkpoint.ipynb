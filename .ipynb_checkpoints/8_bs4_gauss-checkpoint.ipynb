{
 "cells": [
  {
   "cell_type": "code",
   "execution_count": 11,
   "metadata": {},
   "outputs": [],
   "source": [
    "import requests\n",
    "from bs4 import BeautifulSoup\n",
    "import lxml"
   ]
  },
  {
   "cell_type": "code",
   "execution_count": 12,
   "metadata": {},
   "outputs": [
    {
     "name": "stdout",
     "output_type": "stream",
     "text": [
      "<class 'requests.models.Response'>\n"
     ]
    }
   ],
   "source": [
    "requests.packages.urllib3.disable_warnings(requests.packages.urllib3.exceptions.InsecureRequestWarning) # 경고창 뜨지 않게함\n",
    "\n",
    "url = 'https://comic.naver.com/webtoon/list.nhn?titleId=675554'\n",
    "res = requests.get(url, verify=False)\n",
    "res.raise_for_status()\n",
    "print(type(res))\n",
    "soup = BeautifulSoup(res.text, 'lxml')"
   ]
  },
  {
   "cell_type": "code",
   "execution_count": 14,
   "metadata": {},
   "outputs": [
    {
     "name": "stdout",
     "output_type": "stream",
     "text": [
      "<class 'bs4.element.ResultSet'>\n",
      "10\n"
     ]
    }
   ],
   "source": [
    "cartoons = soup.find_all('td', attrs={'class':'title'})\n",
    "print(type(cartoons))\n",
    "print(len(cartoons))"
   ]
  },
  {
   "cell_type": "code",
   "execution_count": 41,
   "metadata": {},
   "outputs": [
    {
     "name": "stdout",
     "output_type": "stream",
     "text": [
      "후기 + 10년 후 가우스\n",
      "https://comic.naver.com/webtoon/detail.nhn?titleId=675554&no=911&weekday=mon\n"
     ]
    }
   ],
   "source": [
    "title = cartoons[0].a.text\n",
    "link = cartoons[0].a.get('href')\n",
    "print(title)\n",
    "print(\"https://comic.naver.com\"+link)"
   ]
  },
  {
   "cell_type": "code",
   "execution_count": 47,
   "metadata": {},
   "outputs": [
    {
     "name": "stdout",
     "output_type": "stream",
     "text": [
      "후기 + 10년 후 가우스 \t https://comic.naver.com/webtoon/detail.nhn?titleId=675554&no=911&weekday=mon\n",
      "시즌4 430화 내일 봐요 \t https://comic.naver.com/webtoon/detail.nhn?titleId=675554&no=910&weekday=mon\n",
      "시즌4 429화 잠행 \t https://comic.naver.com/webtoon/detail.nhn?titleId=675554&no=909&weekday=mon\n",
      "시즌4 428화 추억 \t https://comic.naver.com/webtoon/detail.nhn?titleId=675554&no=908&weekday=mon\n",
      "시즌4 427화 섬세한사람 \t https://comic.naver.com/webtoon/detail.nhn?titleId=675554&no=907&weekday=mon\n",
      "시즌4 426화 적응 \t https://comic.naver.com/webtoon/detail.nhn?titleId=675554&no=906&weekday=mon\n",
      "시즌4 425화 대견 \t https://comic.naver.com/webtoon/detail.nhn?titleId=675554&no=905&weekday=mon\n",
      "시즌4 424화 초빙강사 \t https://comic.naver.com/webtoon/detail.nhn?titleId=675554&no=904&weekday=mon\n",
      "시즌4 423화 추억의 물건 \t https://comic.naver.com/webtoon/detail.nhn?titleId=675554&no=903&weekday=mon\n",
      "시즌4 422화 아니요 \t https://comic.naver.com/webtoon/detail.nhn?titleId=675554&no=902&weekday=mon\n"
     ]
    }
   ],
   "source": [
    "for cartoon in cartoons:\n",
    "    title = cartoon.a.text\n",
    "    link = cartoon.a.get('href')\n",
    "    print(title,'\\t', \"https://comic.naver.com\"+link)"
   ]
  },
  {
   "cell_type": "code",
   "execution_count": null,
   "metadata": {},
   "outputs": [],
   "source": []
  },
  {
   "cell_type": "code",
   "execution_count": null,
   "metadata": {},
   "outputs": [],
   "source": []
  },
  {
   "cell_type": "code",
   "execution_count": null,
   "metadata": {},
   "outputs": [],
   "source": []
  },
  {
   "cell_type": "code",
   "execution_count": null,
   "metadata": {},
   "outputs": [],
   "source": []
  },
  {
   "cell_type": "code",
   "execution_count": null,
   "metadata": {},
   "outputs": [],
   "source": []
  },
  {
   "cell_type": "code",
   "execution_count": null,
   "metadata": {},
   "outputs": [],
   "source": []
  },
  {
   "cell_type": "code",
   "execution_count": 18,
   "metadata": {},
   "outputs": [
    {
     "name": "stdin",
     "output_type": "stream",
     "text": [
      "이름을 입력해주세요:  kim\n"
     ]
    },
    {
     "name": "stdout",
     "output_type": "stream",
     "text": [
      "안녕하세요kim\n"
     ]
    }
   ],
   "source": [
    "name = input('이름을 입력해주세요: ')\n",
    "print('안녕하세요 '+name)"
   ]
  },
  {
   "cell_type": "code",
   "execution_count": 30,
   "metadata": {},
   "outputs": [
    {
     "name": "stdin",
     "output_type": "stream",
     "text": [
      "숫자를 입력해주세요. :  1\n"
     ]
    },
    {
     "name": "stdout",
     "output_type": "stream",
     "text": [
      "1의 2배수는 2입니다.\n"
     ]
    }
   ],
   "source": [
    "\n",
    "num = int(input('숫자를 입력해주세요. : '))\n",
    "\n",
    "if num > 0 : \n",
    "    print(f'{num}의 2배수는 {num*2}입니다.')\n",
    "else: \n",
    "    print('숫자를 다시 입력해주세요.')"
   ]
  },
  {
   "cell_type": "code",
   "execution_count": 40,
   "metadata": {},
   "outputs": [
    {
     "name": "stdin",
     "output_type": "stream",
     "text": [
      "숫자를 입력해주세요:  3\n"
     ]
    },
    {
     "name": "stdout",
     "output_type": "stream",
     "text": [
      "<class 'int'>\n",
      "3\n",
      "=====================================\n",
      "6\n"
     ]
    }
   ],
   "source": [
    "num = int(input('숫자를 입력해주세요: '))\n",
    "print(type(num))\n",
    "print((num))\n",
    "init_num = 0\n",
    "print('=====================================')\n",
    "for i in range(1,num+1):\n",
    "    init_num+=i\n",
    "print(init_num)\n"
   ]
  },
  {
   "cell_type": "code",
   "execution_count": null,
   "metadata": {},
   "outputs": [],
   "source": []
  },
  {
   "cell_type": "code",
   "execution_count": null,
   "metadata": {},
   "outputs": [],
   "source": []
  }
 ],
 "metadata": {
  "kernelspec": {
   "display_name": "Python 3",
   "language": "python",
   "name": "python3"
  },
  "language_info": {
   "codemirror_mode": {
    "name": "ipython",
    "version": 3
   },
   "file_extension": ".py",
   "mimetype": "text/x-python",
   "name": "python",
   "nbconvert_exporter": "python",
   "pygments_lexer": "ipython3",
   "version": "3.8.5"
  }
 },
 "nbformat": 4,
 "nbformat_minor": 4
}
